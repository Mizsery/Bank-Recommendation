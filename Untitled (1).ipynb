{
 "cells": [
  {
   "cell_type": "code",
   "execution_count": 1,
   "id": "233c8fcc",
   "metadata": {},
   "outputs": [],
   "source": [
    "import pandas as pd\n",
    "import numpy as np"
   ]
  },
  {
   "cell_type": "code",
   "execution_count": 3,
   "id": "2211576c",
   "metadata": {},
   "outputs": [],
   "source": [
    "df2 = pd.read_csv('train_2.csv', sep=';', engine='python')"
   ]
  },
  {
   "cell_type": "code",
   "execution_count": 4,
   "id": "13ef60b6",
   "metadata": {},
   "outputs": [
    {
     "data": {
      "text/html": [
       "<div>\n",
       "<style scoped>\n",
       "    .dataframe tbody tr th:only-of-type {\n",
       "        vertical-align: middle;\n",
       "    }\n",
       "\n",
       "    .dataframe tbody tr th {\n",
       "        vertical-align: top;\n",
       "    }\n",
       "\n",
       "    .dataframe thead th {\n",
       "        text-align: right;\n",
       "    }\n",
       "</style>\n",
       "<table border=\"1\" class=\"dataframe\">\n",
       "  <thead>\n",
       "    <tr style=\"text-align: right;\">\n",
       "      <th></th>\n",
       "      <th>ID</th>\n",
       "      <th>MM_IN_BANK</th>\n",
       "      <th>MM_W_CARD</th>\n",
       "      <th>AGE</th>\n",
       "      <th>GENDER</th>\n",
       "      <th>EDUCATION_LEVEL</th>\n",
       "      <th>MARITAL_STATUS</th>\n",
       "      <th>DEPENDANT_CNT</th>\n",
       "      <th>INCOME_MAIN_AMT</th>\n",
       "      <th>REG_CODE</th>\n",
       "    </tr>\n",
       "  </thead>\n",
       "  <tbody>\n",
       "    <tr>\n",
       "      <th>0</th>\n",
       "      <td>500000000000003702</td>\n",
       "      <td>5</td>\n",
       "      <td>5</td>\n",
       "      <td>35</td>\n",
       "      <td>2</td>\n",
       "      <td>3</td>\n",
       "      <td>3</td>\n",
       "      <td>0</td>\n",
       "      <td>87000</td>\n",
       "      <td>9.0</td>\n",
       "    </tr>\n",
       "    <tr>\n",
       "      <th>1</th>\n",
       "      <td>500000000000004100</td>\n",
       "      <td>108</td>\n",
       "      <td>0</td>\n",
       "      <td>34</td>\n",
       "      <td>2</td>\n",
       "      <td>3</td>\n",
       "      <td>3</td>\n",
       "      <td>2</td>\n",
       "      <td>180000</td>\n",
       "      <td>31.0</td>\n",
       "    </tr>\n",
       "    <tr>\n",
       "      <th>2</th>\n",
       "      <td>500000000000004523</td>\n",
       "      <td>0</td>\n",
       "      <td>0</td>\n",
       "      <td>35</td>\n",
       "      <td>1</td>\n",
       "      <td>1</td>\n",
       "      <td>3</td>\n",
       "      <td>0</td>\n",
       "      <td>61000</td>\n",
       "      <td>38.0</td>\n",
       "    </tr>\n",
       "    <tr>\n",
       "      <th>3</th>\n",
       "      <td>500000000000004529</td>\n",
       "      <td>6</td>\n",
       "      <td>6</td>\n",
       "      <td>38</td>\n",
       "      <td>1</td>\n",
       "      <td>5</td>\n",
       "      <td>3</td>\n",
       "      <td>0</td>\n",
       "      <td>318000</td>\n",
       "      <td>42.0</td>\n",
       "    </tr>\n",
       "    <tr>\n",
       "      <th>4</th>\n",
       "      <td>500000000000004718</td>\n",
       "      <td>18</td>\n",
       "      <td>5</td>\n",
       "      <td>39</td>\n",
       "      <td>1</td>\n",
       "      <td>-1</td>\n",
       "      <td>3</td>\n",
       "      <td>0</td>\n",
       "      <td>34000</td>\n",
       "      <td>81.0</td>\n",
       "    </tr>\n",
       "  </tbody>\n",
       "</table>\n",
       "</div>"
      ],
      "text/plain": [
       "                   ID  MM_IN_BANK  MM_W_CARD  AGE  GENDER  EDUCATION_LEVEL  \\\n",
       "0  500000000000003702           5          5   35       2                3   \n",
       "1  500000000000004100         108          0   34       2                3   \n",
       "2  500000000000004523           0          0   35       1                1   \n",
       "3  500000000000004529           6          6   38       1                5   \n",
       "4  500000000000004718          18          5   39       1               -1   \n",
       "\n",
       "   MARITAL_STATUS  DEPENDANT_CNT INCOME_MAIN_AMT  REG_CODE  \n",
       "0               3              0           87000       9.0  \n",
       "1               3              2          180000      31.0  \n",
       "2               3              0           61000      38.0  \n",
       "3               3              0          318000      42.0  \n",
       "4               3              0           34000      81.0  "
      ]
     },
     "execution_count": 4,
     "metadata": {},
     "output_type": "execute_result"
    }
   ],
   "source": [
    "df2.head()"
   ]
  },
  {
   "cell_type": "code",
   "execution_count": 5,
   "id": "4c35a411",
   "metadata": {},
   "outputs": [
    {
     "name": "stdout",
     "output_type": "stream",
     "text": [
      "<class 'pandas.core.frame.DataFrame'>\n",
      "RangeIndex: 200000 entries, 0 to 199999\n",
      "Data columns (total 10 columns):\n",
      " #   Column           Non-Null Count   Dtype  \n",
      "---  ------           --------------   -----  \n",
      " 0   ID               200000 non-null  int64  \n",
      " 1   MM_IN_BANK       200000 non-null  int64  \n",
      " 2   MM_W_CARD        200000 non-null  int64  \n",
      " 3   AGE              200000 non-null  int64  \n",
      " 4   GENDER           200000 non-null  int64  \n",
      " 5   EDUCATION_LEVEL  200000 non-null  int64  \n",
      " 6   MARITAL_STATUS   200000 non-null  int64  \n",
      " 7   DEPENDANT_CNT    200000 non-null  int64  \n",
      " 8   INCOME_MAIN_AMT  103924 non-null  object \n",
      " 9   REG_CODE         199349 non-null  float64\n",
      "dtypes: float64(1), int64(8), object(1)\n",
      "memory usage: 15.3+ MB\n"
     ]
    }
   ],
   "source": [
    "df2.info()"
   ]
  },
  {
   "cell_type": "code",
   "execution_count": 6,
   "id": "fb365989",
   "metadata": {},
   "outputs": [],
   "source": [
    " df2[\"INCOME_MAIN_AMT\"]=df2[\"INCOME_MAIN_AMT\"].str.replace(',','.')"
   ]
  },
  {
   "cell_type": "code",
   "execution_count": 53,
   "id": "10450d69",
   "metadata": {},
   "outputs": [
    {
     "data": {
      "text/html": [
       "<div>\n",
       "<style scoped>\n",
       "    .dataframe tbody tr th:only-of-type {\n",
       "        vertical-align: middle;\n",
       "    }\n",
       "\n",
       "    .dataframe tbody tr th {\n",
       "        vertical-align: top;\n",
       "    }\n",
       "\n",
       "    .dataframe thead th {\n",
       "        text-align: right;\n",
       "    }\n",
       "</style>\n",
       "<table border=\"1\" class=\"dataframe\">\n",
       "  <thead>\n",
       "    <tr style=\"text-align: right;\">\n",
       "      <th></th>\n",
       "      <th>ID</th>\n",
       "      <th>MM_IN_BANK</th>\n",
       "      <th>MM_W_CARD</th>\n",
       "      <th>AGE</th>\n",
       "      <th>GENDER</th>\n",
       "      <th>EDUCATION_LEVEL</th>\n",
       "      <th>MARITAL_STATUS</th>\n",
       "      <th>DEPENDANT_CNT</th>\n",
       "      <th>INCOME_MAIN_AMT</th>\n",
       "      <th>REG_CODE</th>\n",
       "    </tr>\n",
       "  </thead>\n",
       "  <tbody>\n",
       "    <tr>\n",
       "      <th>0</th>\n",
       "      <td>500000000000003702</td>\n",
       "      <td>5</td>\n",
       "      <td>5</td>\n",
       "      <td>35</td>\n",
       "      <td>2</td>\n",
       "      <td>3</td>\n",
       "      <td>3</td>\n",
       "      <td>0</td>\n",
       "      <td>87000</td>\n",
       "      <td>9.0</td>\n",
       "    </tr>\n",
       "    <tr>\n",
       "      <th>1</th>\n",
       "      <td>500000000000004100</td>\n",
       "      <td>108</td>\n",
       "      <td>0</td>\n",
       "      <td>34</td>\n",
       "      <td>2</td>\n",
       "      <td>3</td>\n",
       "      <td>3</td>\n",
       "      <td>2</td>\n",
       "      <td>180000</td>\n",
       "      <td>31.0</td>\n",
       "    </tr>\n",
       "    <tr>\n",
       "      <th>2</th>\n",
       "      <td>500000000000004523</td>\n",
       "      <td>0</td>\n",
       "      <td>0</td>\n",
       "      <td>35</td>\n",
       "      <td>1</td>\n",
       "      <td>1</td>\n",
       "      <td>3</td>\n",
       "      <td>0</td>\n",
       "      <td>61000</td>\n",
       "      <td>38.0</td>\n",
       "    </tr>\n",
       "    <tr>\n",
       "      <th>3</th>\n",
       "      <td>500000000000004529</td>\n",
       "      <td>6</td>\n",
       "      <td>6</td>\n",
       "      <td>38</td>\n",
       "      <td>1</td>\n",
       "      <td>5</td>\n",
       "      <td>3</td>\n",
       "      <td>0</td>\n",
       "      <td>318000</td>\n",
       "      <td>42.0</td>\n",
       "    </tr>\n",
       "    <tr>\n",
       "      <th>4</th>\n",
       "      <td>500000000000004718</td>\n",
       "      <td>18</td>\n",
       "      <td>5</td>\n",
       "      <td>39</td>\n",
       "      <td>1</td>\n",
       "      <td>-1</td>\n",
       "      <td>3</td>\n",
       "      <td>0</td>\n",
       "      <td>34000</td>\n",
       "      <td>81.0</td>\n",
       "    </tr>\n",
       "  </tbody>\n",
       "</table>\n",
       "</div>"
      ],
      "text/plain": [
       "                   ID  MM_IN_BANK  MM_W_CARD  AGE  GENDER  EDUCATION_LEVEL  \\\n",
       "0  500000000000003702           5          5   35       2                3   \n",
       "1  500000000000004100         108          0   34       2                3   \n",
       "2  500000000000004523           0          0   35       1                1   \n",
       "3  500000000000004529           6          6   38       1                5   \n",
       "4  500000000000004718          18          5   39       1               -1   \n",
       "\n",
       "   MARITAL_STATUS  DEPENDANT_CNT INCOME_MAIN_AMT  REG_CODE  \n",
       "0               3              0           87000       9.0  \n",
       "1               3              2          180000      31.0  \n",
       "2               3              0           61000      38.0  \n",
       "3               3              0          318000      42.0  \n",
       "4               3              0           34000      81.0  "
      ]
     },
     "execution_count": 53,
     "metadata": {},
     "output_type": "execute_result"
    }
   ],
   "source": [
    "df2.head()"
   ]
  },
  {
   "cell_type": "code",
   "execution_count": 7,
   "id": "5d079ccf",
   "metadata": {},
   "outputs": [],
   "source": [
    "df2['INCOME_MAIN_AMT'] = df2['INCOME_MAIN_AMT'].astype('float64')"
   ]
  },
  {
   "cell_type": "code",
   "execution_count": 59,
   "id": "b533e562",
   "metadata": {},
   "outputs": [
    {
     "data": {
      "text/plain": [
       "210159000.0"
      ]
     },
     "execution_count": 59,
     "metadata": {},
     "output_type": "execute_result"
    }
   ],
   "source": [
    "df2['INCOME_MAIN_AMT'].max()"
   ]
  },
  {
   "cell_type": "code",
   "execution_count": 56,
   "id": "83dd1c0e",
   "metadata": {},
   "outputs": [
    {
     "data": {
      "text/html": [
       "<div>\n",
       "<style scoped>\n",
       "    .dataframe tbody tr th:only-of-type {\n",
       "        vertical-align: middle;\n",
       "    }\n",
       "\n",
       "    .dataframe tbody tr th {\n",
       "        vertical-align: top;\n",
       "    }\n",
       "\n",
       "    .dataframe thead th {\n",
       "        text-align: right;\n",
       "    }\n",
       "</style>\n",
       "<table border=\"1\" class=\"dataframe\">\n",
       "  <thead>\n",
       "    <tr style=\"text-align: right;\">\n",
       "      <th></th>\n",
       "      <th>ID</th>\n",
       "      <th>MM_IN_BANK</th>\n",
       "      <th>MM_W_CARD</th>\n",
       "      <th>AGE</th>\n",
       "      <th>GENDER</th>\n",
       "      <th>EDUCATION_LEVEL</th>\n",
       "      <th>MARITAL_STATUS</th>\n",
       "      <th>DEPENDANT_CNT</th>\n",
       "      <th>INCOME_MAIN_AMT</th>\n",
       "      <th>REG_CODE</th>\n",
       "    </tr>\n",
       "  </thead>\n",
       "  <tbody>\n",
       "    <tr>\n",
       "      <th>0</th>\n",
       "      <td>500000000000003702</td>\n",
       "      <td>5</td>\n",
       "      <td>5</td>\n",
       "      <td>35</td>\n",
       "      <td>2</td>\n",
       "      <td>3</td>\n",
       "      <td>3</td>\n",
       "      <td>0</td>\n",
       "      <td>87000.0</td>\n",
       "      <td>9.0</td>\n",
       "    </tr>\n",
       "    <tr>\n",
       "      <th>1</th>\n",
       "      <td>500000000000004100</td>\n",
       "      <td>108</td>\n",
       "      <td>0</td>\n",
       "      <td>34</td>\n",
       "      <td>2</td>\n",
       "      <td>3</td>\n",
       "      <td>3</td>\n",
       "      <td>2</td>\n",
       "      <td>180000.0</td>\n",
       "      <td>31.0</td>\n",
       "    </tr>\n",
       "    <tr>\n",
       "      <th>2</th>\n",
       "      <td>500000000000004523</td>\n",
       "      <td>0</td>\n",
       "      <td>0</td>\n",
       "      <td>35</td>\n",
       "      <td>1</td>\n",
       "      <td>1</td>\n",
       "      <td>3</td>\n",
       "      <td>0</td>\n",
       "      <td>61000.0</td>\n",
       "      <td>38.0</td>\n",
       "    </tr>\n",
       "    <tr>\n",
       "      <th>3</th>\n",
       "      <td>500000000000004529</td>\n",
       "      <td>6</td>\n",
       "      <td>6</td>\n",
       "      <td>38</td>\n",
       "      <td>1</td>\n",
       "      <td>5</td>\n",
       "      <td>3</td>\n",
       "      <td>0</td>\n",
       "      <td>318000.0</td>\n",
       "      <td>42.0</td>\n",
       "    </tr>\n",
       "    <tr>\n",
       "      <th>4</th>\n",
       "      <td>500000000000004718</td>\n",
       "      <td>18</td>\n",
       "      <td>5</td>\n",
       "      <td>39</td>\n",
       "      <td>1</td>\n",
       "      <td>-1</td>\n",
       "      <td>3</td>\n",
       "      <td>0</td>\n",
       "      <td>34000.0</td>\n",
       "      <td>81.0</td>\n",
       "    </tr>\n",
       "  </tbody>\n",
       "</table>\n",
       "</div>"
      ],
      "text/plain": [
       "                   ID  MM_IN_BANK  MM_W_CARD  AGE  GENDER  EDUCATION_LEVEL  \\\n",
       "0  500000000000003702           5          5   35       2                3   \n",
       "1  500000000000004100         108          0   34       2                3   \n",
       "2  500000000000004523           0          0   35       1                1   \n",
       "3  500000000000004529           6          6   38       1                5   \n",
       "4  500000000000004718          18          5   39       1               -1   \n",
       "\n",
       "   MARITAL_STATUS  DEPENDANT_CNT  INCOME_MAIN_AMT  REG_CODE  \n",
       "0               3              0          87000.0       9.0  \n",
       "1               3              2         180000.0      31.0  \n",
       "2               3              0          61000.0      38.0  \n",
       "3               3              0         318000.0      42.0  \n",
       "4               3              0          34000.0      81.0  "
      ]
     },
     "execution_count": 56,
     "metadata": {},
     "output_type": "execute_result"
    }
   ],
   "source": [
    "df2.head()"
   ]
  },
  {
   "cell_type": "code",
   "execution_count": 57,
   "id": "4f6aa9f4",
   "metadata": {},
   "outputs": [
    {
     "name": "stdout",
     "output_type": "stream",
     "text": [
      "<class 'pandas.core.frame.DataFrame'>\n",
      "RangeIndex: 200000 entries, 0 to 199999\n",
      "Data columns (total 10 columns):\n",
      " #   Column           Non-Null Count   Dtype  \n",
      "---  ------           --------------   -----  \n",
      " 0   ID               200000 non-null  int64  \n",
      " 1   MM_IN_BANK       200000 non-null  int64  \n",
      " 2   MM_W_CARD        200000 non-null  int64  \n",
      " 3   AGE              200000 non-null  int64  \n",
      " 4   GENDER           200000 non-null  int64  \n",
      " 5   EDUCATION_LEVEL  200000 non-null  int64  \n",
      " 6   MARITAL_STATUS   200000 non-null  int64  \n",
      " 7   DEPENDANT_CNT    200000 non-null  int64  \n",
      " 8   INCOME_MAIN_AMT  103924 non-null  float64\n",
      " 9   REG_CODE         199349 non-null  float64\n",
      "dtypes: float64(2), int64(8)\n",
      "memory usage: 15.3 MB\n"
     ]
    }
   ],
   "source": [
    "df2.info()"
   ]
  },
  {
   "cell_type": "code",
   "execution_count": null,
   "id": "091c7da8",
   "metadata": {},
   "outputs": [],
   "source": []
  },
  {
   "cell_type": "code",
   "execution_count": null,
   "id": "70c98d42",
   "metadata": {},
   "outputs": [],
   "source": []
  },
  {
   "cell_type": "code",
   "execution_count": null,
   "id": "319dc96b",
   "metadata": {},
   "outputs": [],
   "source": []
  },
  {
   "cell_type": "code",
   "execution_count": 25,
   "id": "1cf6ef8f",
   "metadata": {},
   "outputs": [
    {
     "data": {
      "text/plain": [
       "31.0    20717\n",
       "32.0    15652\n",
       "24.0    11270\n",
       "79.0     9365\n",
       "65.0     9163\n",
       "        ...  \n",
       "84.0       84\n",
       "82.0       65\n",
       "69.0       51\n",
       "50.0       19\n",
       "5.0         4\n",
       "Name: REG_CODE, Length: 86, dtype: int64"
      ]
     },
     "execution_count": 25,
     "metadata": {},
     "output_type": "execute_result"
    }
   ],
   "source": [
    "df2['REG_CODE'].value_counts()"
   ]
  },
  {
   "cell_type": "code",
   "execution_count": 8,
   "id": "60b1718e",
   "metadata": {},
   "outputs": [],
   "source": [
    "import seaborn as sns\n",
    "import matplotlib.pyplot as plt"
   ]
  },
  {
   "cell_type": "code",
   "execution_count": 9,
   "id": "baaf8d7a",
   "metadata": {},
   "outputs": [
    {
     "data": {
      "text/plain": [
       "<AxesSubplot:>"
      ]
     },
     "execution_count": 9,
     "metadata": {},
     "output_type": "execute_result"
    },
    {
     "data": {
      "image/png": "[encoded data removed]",
      "text/plain": [
       "<Figure size 640x480 with 2 Axes>"
      ]
     },
     "metadata": {},
     "output_type": "display_data"
    }
   ],
   "source": [
    "sns.heatmap(df2.corr())"
   ]
  },
  {
   "cell_type": "code",
   "execution_count": 10,
   "id": "e87caadb",
   "metadata": {},
   "outputs": [
    {
     "data": {
      "text/plain": [
       "<AxesSubplot:xlabel='EDUCATION_LEVEL', ylabel='INCOME_MAIN_AMT'>"
      ]
     },
     "execution_count": 10,
     "metadata": {},
     "output_type": "execute_result"
    },
    {
     "data": {
      "image/png": "[encoded data removed]",
      "text/plain": [
       "<Figure size 640x480 with 1 Axes>"
      ]
     },
     "metadata": {},
     "output_type": "display_data"
    }
   ],
   "source": [
    "sns.lineplot(data=df2, x=\"EDUCATION_LEVEL\", y=\"INCOME_MAIN_AMT\")"
   ]
  },
  {
   "cell_type": "code",
   "execution_count": 11,
   "id": "18743546",
   "metadata": {},
   "outputs": [],
   "source": [
    "df2['INCOME_MAIN_AMT'] = df2['INCOME_MAIN_AMT'].fillna(df2['INCOME_MAIN_AMT'].mean())"
   ]
  },
  {
   "cell_type": "code",
   "execution_count": 12,
   "id": "4e25d8cb",
   "metadata": {},
   "outputs": [],
   "source": [
    "df2 = df2.dropna()"
   ]
  },
  {
   "cell_type": "code",
   "execution_count": 97,
   "id": "67cc1224",
   "metadata": {},
   "outputs": [
    {
     "name": "stdout",
     "output_type": "stream",
     "text": [
      "<class 'pandas.core.frame.DataFrame'>\n",
      "Int64Index: 199349 entries, 0 to 199999\n",
      "Data columns (total 10 columns):\n",
      " #   Column           Non-Null Count   Dtype  \n",
      "---  ------           --------------   -----  \n",
      " 0   ID               199349 non-null  int64  \n",
      " 1   MM_IN_BANK       199349 non-null  int64  \n",
      " 2   MM_W_CARD        199349 non-null  int64  \n",
      " 3   AGE              199349 non-null  int64  \n",
      " 4   GENDER           199349 non-null  int64  \n",
      " 5   EDUCATION_LEVEL  199349 non-null  int64  \n",
      " 6   MARITAL_STATUS   199349 non-null  int64  \n",
      " 7   DEPENDANT_CNT    199349 non-null  int64  \n",
      " 8   INCOME_MAIN_AMT  199349 non-null  float64\n",
      " 9   REG_CODE         199349 non-null  float64\n",
      "dtypes: float64(2), int64(8)\n",
      "memory usage: 16.7 MB\n"
     ]
    }
   ],
   "source": [
    "df2.info()"
   ]
  },
  {
   "cell_type": "code",
   "execution_count": null,
   "id": "f9d2b89f",
   "metadata": {},
   "outputs": [],
   "source": []
  },
  {
   "cell_type": "code",
   "execution_count": 54,
   "id": "9a250720",
   "metadata": {},
   "outputs": [],
   "source": [
    "df = pd.read_csv('train_1.csv', sep=';', engine='python')"
   ]
  },
  {
   "cell_type": "code",
   "execution_count": 55,
   "id": "21271d7b",
   "metadata": {},
   "outputs": [],
   "source": [
    "df = df.dropna()"
   ]
  },
  {
   "cell_type": "code",
   "execution_count": 56,
   "id": "3e38f086",
   "metadata": {},
   "outputs": [],
   "source": [
    " df[\"SUM_TRANS\"]=df[\"SUM_TRANS\"].str.replace(',','.')"
   ]
  },
  {
   "cell_type": "code",
   "execution_count": 57,
   "id": "d71f7f8b",
   "metadata": {},
   "outputs": [],
   "source": [
    "df['SUM_TRANS'] = df['SUM_TRANS'].astype('float64')"
   ]
  },
  {
   "cell_type": "code",
   "execution_count": 58,
   "id": "33d79cf4",
   "metadata": {},
   "outputs": [
    {
     "name": "stdout",
     "output_type": "stream",
     "text": [
      "<class 'pandas.core.frame.DataFrame'>\n",
      "Int64Index: 2263004 entries, 0 to 2272490\n",
      "Data columns (total 6 columns):\n",
      " #   Column         Dtype  \n",
      "---  ------         -----  \n",
      " 0   ID             int64  \n",
      " 1   PROD_TYPE      int64  \n",
      " 2   TRANS_DTTM     object \n",
      " 3   MCC_CODE       int64  \n",
      " 4   SUM_TRANS      float64\n",
      " 5   LOCATION_NAME  object \n",
      "dtypes: float64(1), int64(3), object(2)\n",
      "memory usage: 120.9+ MB\n"
     ]
    }
   ],
   "source": [
    "df.info()"
   ]
  },
  {
   "cell_type": "code",
   "execution_count": 59,
   "id": "e36ae245",
   "metadata": {},
   "outputs": [
    {
     "data": {
      "text/html": [
       "<div>\n",
       "<style scoped>\n",
       "    .dataframe tbody tr th:only-of-type {\n",
       "        vertical-align: middle;\n",
       "    }\n",
       "\n",
       "    .dataframe tbody tr th {\n",
       "        vertical-align: top;\n",
       "    }\n",
       "\n",
       "    .dataframe thead th {\n",
       "        text-align: right;\n",
       "    }\n",
       "</style>\n",
       "<table border=\"1\" class=\"dataframe\">\n",
       "  <thead>\n",
       "    <tr style=\"text-align: right;\">\n",
       "      <th></th>\n",
       "      <th>ID</th>\n",
       "      <th>PROD_TYPE</th>\n",
       "      <th>TRANS_DTTM</th>\n",
       "      <th>MCC_CODE</th>\n",
       "      <th>SUM_TRANS</th>\n",
       "      <th>LOCATION_NAME</th>\n",
       "    </tr>\n",
       "  </thead>\n",
       "  <tbody>\n",
       "    <tr>\n",
       "      <th>0</th>\n",
       "      <td>500000001271933224</td>\n",
       "      <td>1</td>\n",
       "      <td>31.10.2021 16:04:58</td>\n",
       "      <td>5411</td>\n",
       "      <td>411.45</td>\n",
       "      <td>VERNYJ 1263\\5A GORKOGO STR\\SERPUKHOV\\142203   ...</td>\n",
       "    </tr>\n",
       "    <tr>\n",
       "      <th>1</th>\n",
       "      <td>500000001089710588</td>\n",
       "      <td>2</td>\n",
       "      <td>20.08.2021 18:00:39</td>\n",
       "      <td>7311</td>\n",
       "      <td>503.00</td>\n",
       "      <td>AVITO\\7 LESNAYA STR\\MOSCOW\\125196    RUSRUS</td>\n",
       "    </tr>\n",
       "    <tr>\n",
       "      <th>2</th>\n",
       "      <td>500000000004725733</td>\n",
       "      <td>1</td>\n",
       "      <td>31.10.2021 7:28:47</td>\n",
       "      <td>5411</td>\n",
       "      <td>119.24</td>\n",
       "      <td>STOLITSA\\14 POBEDY PR-T\\KOMSOM-NA-AMU\\681029  ...</td>\n",
       "    </tr>\n",
       "    <tr>\n",
       "      <th>3</th>\n",
       "      <td>500000000608267511</td>\n",
       "      <td>2</td>\n",
       "      <td>31.10.2021 16:03:14</td>\n",
       "      <td>5411</td>\n",
       "      <td>249.95</td>\n",
       "      <td>VERNYJ 1361\\2 MIRA STR\\RAMENSKOE\\140105    RUSRUS</td>\n",
       "    </tr>\n",
       "    <tr>\n",
       "      <th>4</th>\n",
       "      <td>500000001639102687</td>\n",
       "      <td>1</td>\n",
       "      <td>29.10.2021 13:13:50</td>\n",
       "      <td>5814</td>\n",
       "      <td>290.00</td>\n",
       "      <td>RESTORAN MGRILLCAFE.\\LEVAYA STORONA 423-J KM A...</td>\n",
       "    </tr>\n",
       "  </tbody>\n",
       "</table>\n",
       "</div>"
      ],
      "text/plain": [
       "                   ID  PROD_TYPE           TRANS_DTTM  MCC_CODE  SUM_TRANS  \\\n",
       "0  500000001271933224          1  31.10.2021 16:04:58      5411     411.45   \n",
       "1  500000001089710588          2  20.08.2021 18:00:39      7311     503.00   \n",
       "2  500000000004725733          1   31.10.2021 7:28:47      5411     119.24   \n",
       "3  500000000608267511          2  31.10.2021 16:03:14      5411     249.95   \n",
       "4  500000001639102687          1  29.10.2021 13:13:50      5814     290.00   \n",
       "\n",
       "                                       LOCATION_NAME  \n",
       "0  VERNYJ 1263\\5A GORKOGO STR\\SERPUKHOV\\142203   ...  \n",
       "1        AVITO\\7 LESNAYA STR\\MOSCOW\\125196    RUSRUS  \n",
       "2  STOLITSA\\14 POBEDY PR-T\\KOMSOM-NA-AMU\\681029  ...  \n",
       "3  VERNYJ 1361\\2 MIRA STR\\RAMENSKOE\\140105    RUSRUS  \n",
       "4  RESTORAN MGRILLCAFE.\\LEVAYA STORONA 423-J KM A...  "
      ]
     },
     "execution_count": 59,
     "metadata": {},
     "output_type": "execute_result"
    }
   ],
   "source": [
    "df.head()"
   ]
  },
  {
   "cell_type": "code",
   "execution_count": 60,
   "id": "ea21b4c8",
   "metadata": {},
   "outputs": [
    {
     "name": "stderr",
     "output_type": "stream",
     "text": [
      "C:\\Users\\User\\AppData\\Local\\Temp\\ipykernel_11020\\1221586379.py:1: UserWarning: Parsing '24.10.2021' in DD/MM/YYYY format. Provide format or specify infer_datetime_format=True for consistent parsing.\n",
      "  df['TRANS_DTTM'] = pd.to_datetime(df['TRANS_DTTM'], infer_datetime_format=True)\n",
      "C:\\Users\\User\\AppData\\Local\\Temp\\ipykernel_11020\\1221586379.py:1: UserWarning: Parsing '21.10.2021' in DD/MM/YYYY format. Provide format or specify infer_datetime_format=True for consistent parsing.\n",
      "  df['TRANS_DTTM'] = pd.to_datetime(df['TRANS_DTTM'], infer_datetime_format=True)\n",
      "C:\\Users\\User\\AppData\\Local\\Temp\\ipykernel_11020\\1221586379.py:1: UserWarning: Parsing '24.09.2021' in DD/MM/YYYY format. Provide format or specify infer_datetime_format=True for consistent parsing.\n",
      "  df['TRANS_DTTM'] = pd.to_datetime(df['TRANS_DTTM'], infer_datetime_format=True)\n",
      "C:\\Users\\User\\AppData\\Local\\Temp\\ipykernel_11020\\1221586379.py:1: UserWarning: Parsing '17.08.2021' in DD/MM/YYYY format. Provide format or specify infer_datetime_format=True for consistent parsing.\n",
      "  df['TRANS_DTTM'] = pd.to_datetime(df['TRANS_DTTM'], infer_datetime_format=True)\n",
      "C:\\Users\\User\\AppData\\Local\\Temp\\ipykernel_11020\\1221586379.py:1: UserWarning: Parsing '24.08.2021' in DD/MM/YYYY format. Provide format or specify infer_datetime_format=True for consistent parsing.\n",
      "  df['TRANS_DTTM'] = pd.to_datetime(df['TRANS_DTTM'], infer_datetime_format=True)\n",
      "C:\\Users\\User\\AppData\\Local\\Temp\\ipykernel_11020\\1221586379.py:1: UserWarning: Parsing '31.07.2021' in DD/MM/YYYY format. Provide format or specify infer_datetime_format=True for consistent parsing.\n",
      "  df['TRANS_DTTM'] = pd.to_datetime(df['TRANS_DTTM'], infer_datetime_format=True)\n",
      "C:\\Users\\User\\AppData\\Local\\Temp\\ipykernel_11020\\1221586379.py:1: UserWarning: Parsing '27.10.2021' in DD/MM/YYYY format. Provide format or specify infer_datetime_format=True for consistent parsing.\n",
      "  df['TRANS_DTTM'] = pd.to_datetime(df['TRANS_DTTM'], infer_datetime_format=True)\n",
      "C:\\Users\\User\\AppData\\Local\\Temp\\ipykernel_11020\\1221586379.py:1: UserWarning: Parsing '23.10.2021' in DD/MM/YYYY format. Provide format or specify infer_datetime_format=True for consistent parsing.\n",
      "  df['TRANS_DTTM'] = pd.to_datetime(df['TRANS_DTTM'], infer_datetime_format=True)\n",
      "C:\\Users\\User\\AppData\\Local\\Temp\\ipykernel_11020\\1221586379.py:1: UserWarning: Parsing '14.08.2021' in DD/MM/YYYY format. Provide format or specify infer_datetime_format=True for consistent parsing.\n",
      "  df['TRANS_DTTM'] = pd.to_datetime(df['TRANS_DTTM'], infer_datetime_format=True)\n",
      "C:\\Users\\User\\AppData\\Local\\Temp\\ipykernel_11020\\1221586379.py:1: UserWarning: Parsing '30.09.2021' in DD/MM/YYYY format. Provide format or specify infer_datetime_format=True for consistent parsing.\n",
      "  df['TRANS_DTTM'] = pd.to_datetime(df['TRANS_DTTM'], infer_datetime_format=True)\n",
      "C:\\Users\\User\\AppData\\Local\\Temp\\ipykernel_11020\\1221586379.py:1: UserWarning: Parsing '25.09.2021' in DD/MM/YYYY format. Provide format or specify infer_datetime_format=True for consistent parsing.\n",
      "  df['TRANS_DTTM'] = pd.to_datetime(df['TRANS_DTTM'], infer_datetime_format=True)\n",
      "C:\\Users\\User\\AppData\\Local\\Temp\\ipykernel_11020\\1221586379.py:1: UserWarning: Parsing '29.10.2021' in DD/MM/YYYY format. Provide format or specify infer_datetime_format=True for consistent parsing.\n",
      "  df['TRANS_DTTM'] = pd.to_datetime(df['TRANS_DTTM'], infer_datetime_format=True)\n",
      "C:\\Users\\User\\AppData\\Local\\Temp\\ipykernel_11020\\1221586379.py:1: UserWarning: Parsing '22.10.2021' in DD/MM/YYYY format. Provide format or specify infer_datetime_format=True for consistent parsing.\n",
      "  df['TRANS_DTTM'] = pd.to_datetime(df['TRANS_DTTM'], infer_datetime_format=True)\n",
      "C:\\Users\\User\\AppData\\Local\\Temp\\ipykernel_11020\\1221586379.py:1: UserWarning: Parsing '20.08.2021' in DD/MM/YYYY format. Provide format or specify infer_datetime_format=True for consistent parsing.\n",
      "  df['TRANS_DTTM'] = pd.to_datetime(df['TRANS_DTTM'], infer_datetime_format=True)\n",
      "C:\\Users\\User\\AppData\\Local\\Temp\\ipykernel_11020\\1221586379.py:1: UserWarning: Parsing '16.07.2021' in DD/MM/YYYY format. Provide format or specify infer_datetime_format=True for consistent parsing.\n",
      "  df['TRANS_DTTM'] = pd.to_datetime(df['TRANS_DTTM'], infer_datetime_format=True)\n",
      "C:\\Users\\User\\AppData\\Local\\Temp\\ipykernel_11020\\1221586379.py:1: UserWarning: Parsing '29.09.2021' in DD/MM/YYYY format. Provide format or specify infer_datetime_format=True for consistent parsing.\n",
      "  df['TRANS_DTTM'] = pd.to_datetime(df['TRANS_DTTM'], infer_datetime_format=True)\n",
      "C:\\Users\\User\\AppData\\Local\\Temp\\ipykernel_11020\\1221586379.py:1: UserWarning: Parsing '29.07.2021' in DD/MM/YYYY format. Provide format or specify infer_datetime_format=True for consistent parsing.\n",
      "  df['TRANS_DTTM'] = pd.to_datetime(df['TRANS_DTTM'], infer_datetime_format=True)\n",
      "C:\\Users\\User\\AppData\\Local\\Temp\\ipykernel_11020\\1221586379.py:1: UserWarning: Parsing '31.10.2021' in DD/MM/YYYY format. Provide format or specify infer_datetime_format=True for consistent parsing.\n",
      "  df['TRANS_DTTM'] = pd.to_datetime(df['TRANS_DTTM'], infer_datetime_format=True)\n",
      "C:\\Users\\User\\AppData\\Local\\Temp\\ipykernel_11020\\1221586379.py:1: UserWarning: Parsing '26.09.2021' in DD/MM/YYYY format. Provide format or specify infer_datetime_format=True for consistent parsing.\n",
      "  df['TRANS_DTTM'] = pd.to_datetime(df['TRANS_DTTM'], infer_datetime_format=True)\n",
      "C:\\Users\\User\\AppData\\Local\\Temp\\ipykernel_11020\\1221586379.py:1: UserWarning: Parsing '18.08.2021' in DD/MM/YYYY format. Provide format or specify infer_datetime_format=True for consistent parsing.\n",
      "  df['TRANS_DTTM'] = pd.to_datetime(df['TRANS_DTTM'], infer_datetime_format=True)\n",
      "C:\\Users\\User\\AppData\\Local\\Temp\\ipykernel_11020\\1221586379.py:1: UserWarning: Parsing '15.08.2021' in DD/MM/YYYY format. Provide format or specify infer_datetime_format=True for consistent parsing.\n",
      "  df['TRANS_DTTM'] = pd.to_datetime(df['TRANS_DTTM'], infer_datetime_format=True)\n",
      "C:\\Users\\User\\AppData\\Local\\Temp\\ipykernel_11020\\1221586379.py:1: UserWarning: Parsing '14.09.2021' in DD/MM/YYYY format. Provide format or specify infer_datetime_format=True for consistent parsing.\n",
      "  df['TRANS_DTTM'] = pd.to_datetime(df['TRANS_DTTM'], infer_datetime_format=True)\n",
      "C:\\Users\\User\\AppData\\Local\\Temp\\ipykernel_11020\\1221586379.py:1: UserWarning: Parsing '17.09.2021' in DD/MM/YYYY format. Provide format or specify infer_datetime_format=True for consistent parsing.\n",
      "  df['TRANS_DTTM'] = pd.to_datetime(df['TRANS_DTTM'], infer_datetime_format=True)\n",
      "C:\\Users\\User\\AppData\\Local\\Temp\\ipykernel_11020\\1221586379.py:1: UserWarning: Parsing '30.08.2021' in DD/MM/YYYY format. Provide format or specify infer_datetime_format=True for consistent parsing.\n",
      "  df['TRANS_DTTM'] = pd.to_datetime(df['TRANS_DTTM'], infer_datetime_format=True)\n",
      "C:\\Users\\User\\AppData\\Local\\Temp\\ipykernel_11020\\1221586379.py:1: UserWarning: Parsing '22.09.2021' in DD/MM/YYYY format. Provide format or specify infer_datetime_format=True for consistent parsing.\n",
      "  df['TRANS_DTTM'] = pd.to_datetime(df['TRANS_DTTM'], infer_datetime_format=True)\n",
      "C:\\Users\\User\\AppData\\Local\\Temp\\ipykernel_11020\\1221586379.py:1: UserWarning: Parsing '17.10.2021' in DD/MM/YYYY format. Provide format or specify infer_datetime_format=True for consistent parsing.\n",
      "  df['TRANS_DTTM'] = pd.to_datetime(df['TRANS_DTTM'], infer_datetime_format=True)\n",
      "C:\\Users\\User\\AppData\\Local\\Temp\\ipykernel_11020\\1221586379.py:1: UserWarning: Parsing '18.07.2021' in DD/MM/YYYY format. Provide format or specify infer_datetime_format=True for consistent parsing.\n",
      "  df['TRANS_DTTM'] = pd.to_datetime(df['TRANS_DTTM'], infer_datetime_format=True)\n",
      "C:\\Users\\User\\AppData\\Local\\Temp\\ipykernel_11020\\1221586379.py:1: UserWarning: Parsing '16.10.2021' in DD/MM/YYYY format. Provide format or specify infer_datetime_format=True for consistent parsing.\n",
      "  df['TRANS_DTTM'] = pd.to_datetime(df['TRANS_DTTM'], infer_datetime_format=True)\n",
      "C:\\Users\\User\\AppData\\Local\\Temp\\ipykernel_11020\\1221586379.py:1: UserWarning: Parsing '15.07.2021' in DD/MM/YYYY format. Provide format or specify infer_datetime_format=True for consistent parsing.\n",
      "  df['TRANS_DTTM'] = pd.to_datetime(df['TRANS_DTTM'], infer_datetime_format=True)\n",
      "C:\\Users\\User\\AppData\\Local\\Temp\\ipykernel_11020\\1221586379.py:1: UserWarning: Parsing '28.10.2021' in DD/MM/YYYY format. Provide format or specify infer_datetime_format=True for consistent parsing.\n",
      "  df['TRANS_DTTM'] = pd.to_datetime(df['TRANS_DTTM'], infer_datetime_format=True)\n",
      "C:\\Users\\User\\AppData\\Local\\Temp\\ipykernel_11020\\1221586379.py:1: UserWarning: Parsing '19.10.2021' in DD/MM/YYYY format. Provide format or specify infer_datetime_format=True for consistent parsing.\n",
      "  df['TRANS_DTTM'] = pd.to_datetime(df['TRANS_DTTM'], infer_datetime_format=True)\n",
      "C:\\Users\\User\\AppData\\Local\\Temp\\ipykernel_11020\\1221586379.py:1: UserWarning: Parsing '17.07.2021' in DD/MM/YYYY format. Provide format or specify infer_datetime_format=True for consistent parsing.\n",
      "  df['TRANS_DTTM'] = pd.to_datetime(df['TRANS_DTTM'], infer_datetime_format=True)\n",
      "C:\\Users\\User\\AppData\\Local\\Temp\\ipykernel_11020\\1221586379.py:1: UserWarning: Parsing '19.08.2021' in DD/MM/YYYY format. Provide format or specify infer_datetime_format=True for consistent parsing.\n",
      "  df['TRANS_DTTM'] = pd.to_datetime(df['TRANS_DTTM'], infer_datetime_format=True)\n",
      "C:\\Users\\User\\AppData\\Local\\Temp\\ipykernel_11020\\1221586379.py:1: UserWarning: Parsing '25.07.2021' in DD/MM/YYYY format. Provide format or specify infer_datetime_format=True for consistent parsing.\n",
      "  df['TRANS_DTTM'] = pd.to_datetime(df['TRANS_DTTM'], infer_datetime_format=True)\n",
      "C:\\Users\\User\\AppData\\Local\\Temp\\ipykernel_11020\\1221586379.py:1: UserWarning: Parsing '20.09.2021' in DD/MM/YYYY format. Provide format or specify infer_datetime_format=True for consistent parsing.\n",
      "  df['TRANS_DTTM'] = pd.to_datetime(df['TRANS_DTTM'], infer_datetime_format=True)\n",
      "C:\\Users\\User\\AppData\\Local\\Temp\\ipykernel_11020\\1221586379.py:1: UserWarning: Parsing '25.10.2021' in DD/MM/YYYY format. Provide format or specify infer_datetime_format=True for consistent parsing.\n",
      "  df['TRANS_DTTM'] = pd.to_datetime(df['TRANS_DTTM'], infer_datetime_format=True)\n",
      "C:\\Users\\User\\AppData\\Local\\Temp\\ipykernel_11020\\1221586379.py:1: UserWarning: Parsing '21.07.2021' in DD/MM/YYYY format. Provide format or specify infer_datetime_format=True for consistent parsing.\n",
      "  df['TRANS_DTTM'] = pd.to_datetime(df['TRANS_DTTM'], infer_datetime_format=True)\n",
      "C:\\Users\\User\\AppData\\Local\\Temp\\ipykernel_11020\\1221586379.py:1: UserWarning: Parsing '22.08.2021' in DD/MM/YYYY format. Provide format or specify infer_datetime_format=True for consistent parsing.\n",
      "  df['TRANS_DTTM'] = pd.to_datetime(df['TRANS_DTTM'], infer_datetime_format=True)\n",
      "C:\\Users\\User\\AppData\\Local\\Temp\\ipykernel_11020\\1221586379.py:1: UserWarning: Parsing '27.07.2021' in DD/MM/YYYY format. Provide format or specify infer_datetime_format=True for consistent parsing.\n",
      "  df['TRANS_DTTM'] = pd.to_datetime(df['TRANS_DTTM'], infer_datetime_format=True)\n",
      "C:\\Users\\User\\AppData\\Local\\Temp\\ipykernel_11020\\1221586379.py:1: UserWarning: Parsing '13.07.2021' in DD/MM/YYYY format. Provide format or specify infer_datetime_format=True for consistent parsing.\n",
      "  df['TRANS_DTTM'] = pd.to_datetime(df['TRANS_DTTM'], infer_datetime_format=True)\n",
      "C:\\Users\\User\\AppData\\Local\\Temp\\ipykernel_11020\\1221586379.py:1: UserWarning: Parsing '13.09.2021' in DD/MM/YYYY format. Provide format or specify infer_datetime_format=True for consistent parsing.\n",
      "  df['TRANS_DTTM'] = pd.to_datetime(df['TRANS_DTTM'], infer_datetime_format=True)\n",
      "C:\\Users\\User\\AppData\\Local\\Temp\\ipykernel_11020\\1221586379.py:1: UserWarning: Parsing '23.08.2021' in DD/MM/YYYY format. Provide format or specify infer_datetime_format=True for consistent parsing.\n",
      "  df['TRANS_DTTM'] = pd.to_datetime(df['TRANS_DTTM'], infer_datetime_format=True)\n",
      "C:\\Users\\User\\AppData\\Local\\Temp\\ipykernel_11020\\1221586379.py:1: UserWarning: Parsing '28.09.2021' in DD/MM/YYYY format. Provide format or specify infer_datetime_format=True for consistent parsing.\n",
      "  df['TRANS_DTTM'] = pd.to_datetime(df['TRANS_DTTM'], infer_datetime_format=True)\n",
      "C:\\Users\\User\\AppData\\Local\\Temp\\ipykernel_11020\\1221586379.py:1: UserWarning: Parsing '14.07.2021' in DD/MM/YYYY format. Provide format or specify infer_datetime_format=True for consistent parsing.\n",
      "  df['TRANS_DTTM'] = pd.to_datetime(df['TRANS_DTTM'], infer_datetime_format=True)\n",
      "C:\\Users\\User\\AppData\\Local\\Temp\\ipykernel_11020\\1221586379.py:1: UserWarning: Parsing '26.07.2021' in DD/MM/YYYY format. Provide format or specify infer_datetime_format=True for consistent parsing.\n",
      "  df['TRANS_DTTM'] = pd.to_datetime(df['TRANS_DTTM'], infer_datetime_format=True)\n",
      "C:\\Users\\User\\AppData\\Local\\Temp\\ipykernel_11020\\1221586379.py:1: UserWarning: Parsing '23.09.2021' in DD/MM/YYYY format. Provide format or specify infer_datetime_format=True for consistent parsing.\n",
      "  df['TRANS_DTTM'] = pd.to_datetime(df['TRANS_DTTM'], infer_datetime_format=True)\n",
      "C:\\Users\\User\\AppData\\Local\\Temp\\ipykernel_11020\\1221586379.py:1: UserWarning: Parsing '18.09.2021' in DD/MM/YYYY format. Provide format or specify infer_datetime_format=True for consistent parsing.\n",
      "  df['TRANS_DTTM'] = pd.to_datetime(df['TRANS_DTTM'], infer_datetime_format=True)\n",
      "C:\\Users\\User\\AppData\\Local\\Temp\\ipykernel_11020\\1221586379.py:1: UserWarning: Parsing '26.08.2021' in DD/MM/YYYY format. Provide format or specify infer_datetime_format=True for consistent parsing.\n",
      "  df['TRANS_DTTM'] = pd.to_datetime(df['TRANS_DTTM'], infer_datetime_format=True)\n",
      "C:\\Users\\User\\AppData\\Local\\Temp\\ipykernel_11020\\1221586379.py:1: UserWarning: Parsing '23.07.2021' in DD/MM/YYYY format. Provide format or specify infer_datetime_format=True for consistent parsing.\n",
      "  df['TRANS_DTTM'] = pd.to_datetime(df['TRANS_DTTM'], infer_datetime_format=True)\n",
      "C:\\Users\\User\\AppData\\Local\\Temp\\ipykernel_11020\\1221586379.py:1: UserWarning: Parsing '24.07.2021' in DD/MM/YYYY format. Provide format or specify infer_datetime_format=True for consistent parsing.\n",
      "  df['TRANS_DTTM'] = pd.to_datetime(df['TRANS_DTTM'], infer_datetime_format=True)\n",
      "C:\\Users\\User\\AppData\\Local\\Temp\\ipykernel_11020\\1221586379.py:1: UserWarning: Parsing '19.09.2021' in DD/MM/YYYY format. Provide format or specify infer_datetime_format=True for consistent parsing.\n",
      "  df['TRANS_DTTM'] = pd.to_datetime(df['TRANS_DTTM'], infer_datetime_format=True)\n",
      "C:\\Users\\User\\AppData\\Local\\Temp\\ipykernel_11020\\1221586379.py:1: UserWarning: Parsing '21.09.2021' in DD/MM/YYYY format. Provide format or specify infer_datetime_format=True for consistent parsing.\n",
      "  df['TRANS_DTTM'] = pd.to_datetime(df['TRANS_DTTM'], infer_datetime_format=True)\n",
      "C:\\Users\\User\\AppData\\Local\\Temp\\ipykernel_11020\\1221586379.py:1: UserWarning: Parsing '20.07.2021' in DD/MM/YYYY format. Provide format or specify infer_datetime_format=True for consistent parsing.\n",
      "  df['TRANS_DTTM'] = pd.to_datetime(df['TRANS_DTTM'], infer_datetime_format=True)\n",
      "C:\\Users\\User\\AppData\\Local\\Temp\\ipykernel_11020\\1221586379.py:1: UserWarning: Parsing '15.09.2021' in DD/MM/YYYY format. Provide format or specify infer_datetime_format=True for consistent parsing.\n",
      "  df['TRANS_DTTM'] = pd.to_datetime(df['TRANS_DTTM'], infer_datetime_format=True)\n",
      "C:\\Users\\User\\AppData\\Local\\Temp\\ipykernel_11020\\1221586379.py:1: UserWarning: Parsing '19.07.2021' in DD/MM/YYYY format. Provide format or specify infer_datetime_format=True for consistent parsing.\n",
      "  df['TRANS_DTTM'] = pd.to_datetime(df['TRANS_DTTM'], infer_datetime_format=True)\n",
      "C:\\Users\\User\\AppData\\Local\\Temp\\ipykernel_11020\\1221586379.py:1: UserWarning: Parsing '15.10.2021' in DD/MM/YYYY format. Provide format or specify infer_datetime_format=True for consistent parsing.\n",
      "  df['TRANS_DTTM'] = pd.to_datetime(df['TRANS_DTTM'], infer_datetime_format=True)\n",
      "C:\\Users\\User\\AppData\\Local\\Temp\\ipykernel_11020\\1221586379.py:1: UserWarning: Parsing '26.10.2021' in DD/MM/YYYY format. Provide format or specify infer_datetime_format=True for consistent parsing.\n",
      "  df['TRANS_DTTM'] = pd.to_datetime(df['TRANS_DTTM'], infer_datetime_format=True)\n",
      "C:\\Users\\User\\AppData\\Local\\Temp\\ipykernel_11020\\1221586379.py:1: UserWarning: Parsing '27.08.2021' in DD/MM/YYYY format. Provide format or specify infer_datetime_format=True for consistent parsing.\n",
      "  df['TRANS_DTTM'] = pd.to_datetime(df['TRANS_DTTM'], infer_datetime_format=True)\n",
      "C:\\Users\\User\\AppData\\Local\\Temp\\ipykernel_11020\\1221586379.py:1: UserWarning: Parsing '28.07.2021' in DD/MM/YYYY format. Provide format or specify infer_datetime_format=True for consistent parsing.\n",
      "  df['TRANS_DTTM'] = pd.to_datetime(df['TRANS_DTTM'], infer_datetime_format=True)\n",
      "C:\\Users\\User\\AppData\\Local\\Temp\\ipykernel_11020\\1221586379.py:1: UserWarning: Parsing '29.08.2021' in DD/MM/YYYY format. Provide format or specify infer_datetime_format=True for consistent parsing.\n",
      "  df['TRANS_DTTM'] = pd.to_datetime(df['TRANS_DTTM'], infer_datetime_format=True)\n",
      "C:\\Users\\User\\AppData\\Local\\Temp\\ipykernel_11020\\1221586379.py:1: UserWarning: Parsing '30.07.2021' in DD/MM/YYYY format. Provide format or specify infer_datetime_format=True for consistent parsing.\n",
      "  df['TRANS_DTTM'] = pd.to_datetime(df['TRANS_DTTM'], infer_datetime_format=True)\n",
      "C:\\Users\\User\\AppData\\Local\\Temp\\ipykernel_11020\\1221586379.py:1: UserWarning: Parsing '20.10.2021' in DD/MM/YYYY format. Provide format or specify infer_datetime_format=True for consistent parsing.\n",
      "  df['TRANS_DTTM'] = pd.to_datetime(df['TRANS_DTTM'], infer_datetime_format=True)\n",
      "C:\\Users\\User\\AppData\\Local\\Temp\\ipykernel_11020\\1221586379.py:1: UserWarning: Parsing '16.08.2021' in DD/MM/YYYY format. Provide format or specify infer_datetime_format=True for consistent parsing.\n",
      "  df['TRANS_DTTM'] = pd.to_datetime(df['TRANS_DTTM'], infer_datetime_format=True)\n",
      "C:\\Users\\User\\AppData\\Local\\Temp\\ipykernel_11020\\1221586379.py:1: UserWarning: Parsing '27.09.2021' in DD/MM/YYYY format. Provide format or specify infer_datetime_format=True for consistent parsing.\n",
      "  df['TRANS_DTTM'] = pd.to_datetime(df['TRANS_DTTM'], infer_datetime_format=True)\n",
      "C:\\Users\\User\\AppData\\Local\\Temp\\ipykernel_11020\\1221586379.py:1: UserWarning: Parsing '25.08.2021' in DD/MM/YYYY format. Provide format or specify infer_datetime_format=True for consistent parsing.\n",
      "  df['TRANS_DTTM'] = pd.to_datetime(df['TRANS_DTTM'], infer_datetime_format=True)\n",
      "C:\\Users\\User\\AppData\\Local\\Temp\\ipykernel_11020\\1221586379.py:1: UserWarning: Parsing '28.08.2021' in DD/MM/YYYY format. Provide format or specify infer_datetime_format=True for consistent parsing.\n",
      "  df['TRANS_DTTM'] = pd.to_datetime(df['TRANS_DTTM'], infer_datetime_format=True)\n",
      "C:\\Users\\User\\AppData\\Local\\Temp\\ipykernel_11020\\1221586379.py:1: UserWarning: Parsing '30.10.2021' in DD/MM/YYYY format. Provide format or specify infer_datetime_format=True for consistent parsing.\n",
      "  df['TRANS_DTTM'] = pd.to_datetime(df['TRANS_DTTM'], infer_datetime_format=True)\n",
      "C:\\Users\\User\\AppData\\Local\\Temp\\ipykernel_11020\\1221586379.py:1: UserWarning: Parsing '31.08.2021' in DD/MM/YYYY format. Provide format or specify infer_datetime_format=True for consistent parsing.\n",
      "  df['TRANS_DTTM'] = pd.to_datetime(df['TRANS_DTTM'], infer_datetime_format=True)\n",
      "C:\\Users\\User\\AppData\\Local\\Temp\\ipykernel_11020\\1221586379.py:1: UserWarning: Parsing '14.10.2021' in DD/MM/YYYY format. Provide format or specify infer_datetime_format=True for consistent parsing.\n",
      "  df['TRANS_DTTM'] = pd.to_datetime(df['TRANS_DTTM'], infer_datetime_format=True)\n",
      "C:\\Users\\User\\AppData\\Local\\Temp\\ipykernel_11020\\1221586379.py:1: UserWarning: Parsing '22.07.2021' in DD/MM/YYYY format. Provide format or specify infer_datetime_format=True for consistent parsing.\n",
      "  df['TRANS_DTTM'] = pd.to_datetime(df['TRANS_DTTM'], infer_datetime_format=True)\n",
      "C:\\Users\\User\\AppData\\Local\\Temp\\ipykernel_11020\\1221586379.py:1: UserWarning: Parsing '13.08.2021' in DD/MM/YYYY format. Provide format or specify infer_datetime_format=True for consistent parsing.\n",
      "  df['TRANS_DTTM'] = pd.to_datetime(df['TRANS_DTTM'], infer_datetime_format=True)\n",
      "C:\\Users\\User\\AppData\\Local\\Temp\\ipykernel_11020\\1221586379.py:1: UserWarning: Parsing '13.10.2021' in DD/MM/YYYY format. Provide format or specify infer_datetime_format=True for consistent parsing.\n",
      "  df['TRANS_DTTM'] = pd.to_datetime(df['TRANS_DTTM'], infer_datetime_format=True)\n",
      "C:\\Users\\User\\AppData\\Local\\Temp\\ipykernel_11020\\1221586379.py:1: UserWarning: Parsing '21.08.2021' in DD/MM/YYYY format. Provide format or specify infer_datetime_format=True for consistent parsing.\n",
      "  df['TRANS_DTTM'] = pd.to_datetime(df['TRANS_DTTM'], infer_datetime_format=True)\n",
      "C:\\Users\\User\\AppData\\Local\\Temp\\ipykernel_11020\\1221586379.py:1: UserWarning: Parsing '18.10.2021' in DD/MM/YYYY format. Provide format or specify infer_datetime_format=True for consistent parsing.\n",
      "  df['TRANS_DTTM'] = pd.to_datetime(df['TRANS_DTTM'], infer_datetime_format=True)\n",
      "C:\\Users\\User\\AppData\\Local\\Temp\\ipykernel_11020\\1221586379.py:1: UserWarning: Parsing '16.09.2021' in DD/MM/YYYY format. Provide format or specify infer_datetime_format=True for consistent parsing.\n",
      "  df['TRANS_DTTM'] = pd.to_datetime(df['TRANS_DTTM'], infer_datetime_format=True)\n"
     ]
    }
   ],
   "source": [
    "df['TRANS_DTTM'] = pd.to_datetime(df['TRANS_DTTM'], infer_datetime_format=True)"
   ]
  },
  {
   "cell_type": "code",
   "execution_count": 22,
   "id": "af96e2a2",
   "metadata": {},
   "outputs": [
    {
     "data": {
      "text/plain": [
       "0   2021-10-31 16:04:58\n",
       "1   2021-08-20 18:00:39\n",
       "2   2021-10-31 07:28:47\n",
       "3   2021-10-31 16:03:14\n",
       "4   2021-10-29 13:13:50\n",
       "Name: TRANS_DTTM, dtype: datetime64[ns]"
      ]
     },
     "execution_count": 22,
     "metadata": {},
     "output_type": "execute_result"
    }
   ],
   "source": [
    "df['TRANS_DTTM']"
   ]
  },
  {
   "cell_type": "code",
   "execution_count": 61,
   "id": "fe5a4b45",
   "metadata": {},
   "outputs": [],
   "source": [
    "df_clean = df"
   ]
  },
  {
   "cell_type": "code",
   "execution_count": 64,
   "id": "4abd7a3d",
   "metadata": {},
   "outputs": [
    {
     "data": {
      "text/html": [
       "<div>\n",
       "<style scoped>\n",
       "    .dataframe tbody tr th:only-of-type {\n",
       "        vertical-align: middle;\n",
       "    }\n",
       "\n",
       "    .dataframe tbody tr th {\n",
       "        vertical-align: top;\n",
       "    }\n",
       "\n",
       "    .dataframe thead th {\n",
       "        text-align: right;\n",
       "    }\n",
       "</style>\n",
       "<table border=\"1\" class=\"dataframe\">\n",
       "  <thead>\n",
       "    <tr style=\"text-align: right;\">\n",
       "      <th></th>\n",
       "      <th>ID</th>\n",
       "      <th>PROD_TYPE</th>\n",
       "      <th>TRANS_DTTM</th>\n",
       "      <th>MCC_CODE</th>\n",
       "      <th>SUM_TRANS</th>\n",
       "      <th>LOCATION_NAME</th>\n",
       "    </tr>\n",
       "  </thead>\n",
       "  <tbody>\n",
       "    <tr>\n",
       "      <th>0</th>\n",
       "      <td>500000001271933224</td>\n",
       "      <td>1</td>\n",
       "      <td>2021-10-31 16:04:58</td>\n",
       "      <td>5411</td>\n",
       "      <td>411.45</td>\n",
       "      <td>VERNYJ 1263\\5A GORKOGO STR\\SERPUKHOV\\142203   ...</td>\n",
       "    </tr>\n",
       "    <tr>\n",
       "      <th>1</th>\n",
       "      <td>500000001089710588</td>\n",
       "      <td>2</td>\n",
       "      <td>2021-08-20 18:00:39</td>\n",
       "      <td>7311</td>\n",
       "      <td>503.00</td>\n",
       "      <td>AVITO\\7 LESNAYA STR\\MOSCOW\\125196    RUSRUS</td>\n",
       "    </tr>\n",
       "    <tr>\n",
       "      <th>2</th>\n",
       "      <td>500000000004725733</td>\n",
       "      <td>1</td>\n",
       "      <td>2021-10-31 07:28:47</td>\n",
       "      <td>5411</td>\n",
       "      <td>119.24</td>\n",
       "      <td>STOLITSA\\14 POBEDY PR-T\\KOMSOM-NA-AMU\\681029  ...</td>\n",
       "    </tr>\n",
       "    <tr>\n",
       "      <th>3</th>\n",
       "      <td>500000000608267511</td>\n",
       "      <td>2</td>\n",
       "      <td>2021-10-31 16:03:14</td>\n",
       "      <td>5411</td>\n",
       "      <td>249.95</td>\n",
       "      <td>VERNYJ 1361\\2 MIRA STR\\RAMENSKOE\\140105    RUSRUS</td>\n",
       "    </tr>\n",
       "    <tr>\n",
       "      <th>4</th>\n",
       "      <td>500000001639102687</td>\n",
       "      <td>1</td>\n",
       "      <td>2021-10-29 13:13:50</td>\n",
       "      <td>5814</td>\n",
       "      <td>290.00</td>\n",
       "      <td>RESTORAN MGRILLCAFE.\\LEVAYA STORONA 423-J KM A...</td>\n",
       "    </tr>\n",
       "  </tbody>\n",
       "</table>\n",
       "</div>"
      ],
      "text/plain": [
       "                   ID  PROD_TYPE          TRANS_DTTM  MCC_CODE  SUM_TRANS  \\\n",
       "0  500000001271933224          1 2021-10-31 16:04:58      5411     411.45   \n",
       "1  500000001089710588          2 2021-08-20 18:00:39      7311     503.00   \n",
       "2  500000000004725733          1 2021-10-31 07:28:47      5411     119.24   \n",
       "3  500000000608267511          2 2021-10-31 16:03:14      5411     249.95   \n",
       "4  500000001639102687          1 2021-10-29 13:13:50      5814     290.00   \n",
       "\n",
       "                                       LOCATION_NAME  \n",
       "0  VERNYJ 1263\\5A GORKOGO STR\\SERPUKHOV\\142203   ...  \n",
       "1        AVITO\\7 LESNAYA STR\\MOSCOW\\125196    RUSRUS  \n",
       "2  STOLITSA\\14 POBEDY PR-T\\KOMSOM-NA-AMU\\681029  ...  \n",
       "3  VERNYJ 1361\\2 MIRA STR\\RAMENSKOE\\140105    RUSRUS  \n",
       "4  RESTORAN MGRILLCAFE.\\LEVAYA STORONA 423-J KM A...  "
      ]
     },
     "execution_count": 64,
     "metadata": {},
     "output_type": "execute_result"
    }
   ],
   "source": [
    "df_clean.head()"
   ]
  },
  {
   "cell_type": "code",
   "execution_count": 71,
   "id": "edebebd4",
   "metadata": {},
   "outputs": [],
   "source": [
    "df['LOCATION_NAME'] = df['LOCATION_NAME'].astype('str') "
   ]
  },
  {
   "cell_type": "code",
   "execution_count": 81,
   "id": "5f8fbd81",
   "metadata": {},
   "outputs": [],
   "source": [
    "df['index']=df['LOCATION_NAME'].str.extract(r'(\\b\\d{6}\\b)', expand=False)"
   ]
  },
  {
   "cell_type": "code",
   "execution_count": 89,
   "id": "050bc57d",
   "metadata": {},
   "outputs": [],
   "source": [
    "df = df.dropna()"
   ]
  },
  {
   "cell_type": "code",
   "execution_count": 90,
   "id": "7df4f861",
   "metadata": {},
   "outputs": [
    {
     "name": "stderr",
     "output_type": "stream",
     "text": [
      "C:\\Users\\User\\AppData\\Local\\Temp\\ipykernel_11020\\881736787.py:1: SettingWithCopyWarning: \n",
      "A value is trying to be set on a copy of a slice from a DataFrame.\n",
      "Try using .loc[row_indexer,col_indexer] = value instead\n",
      "\n",
      "See the caveats in the documentation: https://pandas.pydata.org/pandas-docs/stable/user_guide/indexing.html#returning-a-view-versus-a-copy\n",
      "  df['index'] = df['index'].astype('int64')\n"
     ]
    }
   ],
   "source": [
    "df['index'] = df['index'].astype('int64')"
   ]
  },
  {
   "cell_type": "code",
   "execution_count": 92,
   "id": "7152db07",
   "metadata": {},
   "outputs": [
    {
     "name": "stderr",
     "output_type": "stream",
     "text": [
      "C:\\Users\\User\\AppData\\Local\\Temp\\ipykernel_11020\\3075664788.py:1: SettingWithCopyWarning: \n",
      "A value is trying to be set on a copy of a slice from a DataFrame\n",
      "\n",
      "See the caveats in the documentation: https://pandas.pydata.org/pandas-docs/stable/user_guide/indexing.html#returning-a-view-versus-a-copy\n",
      "  df.drop('LOCATION_NAME', axis=1, inplace=True)\n"
     ]
    }
   ],
   "source": [
    "df.drop('LOCATION_NAME', axis=1, inplace=True)"
   ]
  },
  {
   "cell_type": "code",
   "execution_count": 93,
   "id": "ac5b169f",
   "metadata": {},
   "outputs": [
    {
     "data": {
      "text/html": [
       "<div>\n",
       "<style scoped>\n",
       "    .dataframe tbody tr th:only-of-type {\n",
       "        vertical-align: middle;\n",
       "    }\n",
       "\n",
       "    .dataframe tbody tr th {\n",
       "        vertical-align: top;\n",
       "    }\n",
       "\n",
       "    .dataframe thead th {\n",
       "        text-align: right;\n",
       "    }\n",
       "</style>\n",
       "<table border=\"1\" class=\"dataframe\">\n",
       "  <thead>\n",
       "    <tr style=\"text-align: right;\">\n",
       "      <th></th>\n",
       "      <th>ID</th>\n",
       "      <th>PROD_TYPE</th>\n",
       "      <th>TRANS_DTTM</th>\n",
       "      <th>MCC_CODE</th>\n",
       "      <th>SUM_TRANS</th>\n",
       "      <th>index</th>\n",
       "    </tr>\n",
       "  </thead>\n",
       "  <tbody>\n",
       "    <tr>\n",
       "      <th>0</th>\n",
       "      <td>500000001271933224</td>\n",
       "      <td>1</td>\n",
       "      <td>2021-10-31 16:04:58</td>\n",
       "      <td>5411</td>\n",
       "      <td>411.45</td>\n",
       "      <td>142203</td>\n",
       "    </tr>\n",
       "    <tr>\n",
       "      <th>1</th>\n",
       "      <td>500000001089710588</td>\n",
       "      <td>2</td>\n",
       "      <td>2021-08-20 18:00:39</td>\n",
       "      <td>7311</td>\n",
       "      <td>503.00</td>\n",
       "      <td>125196</td>\n",
       "    </tr>\n",
       "    <tr>\n",
       "      <th>2</th>\n",
       "      <td>500000000004725733</td>\n",
       "      <td>1</td>\n",
       "      <td>2021-10-31 07:28:47</td>\n",
       "      <td>5411</td>\n",
       "      <td>119.24</td>\n",
       "      <td>681029</td>\n",
       "    </tr>\n",
       "    <tr>\n",
       "      <th>3</th>\n",
       "      <td>500000000608267511</td>\n",
       "      <td>2</td>\n",
       "      <td>2021-10-31 16:03:14</td>\n",
       "      <td>5411</td>\n",
       "      <td>249.95</td>\n",
       "      <td>140105</td>\n",
       "    </tr>\n",
       "    <tr>\n",
       "      <th>4</th>\n",
       "      <td>500000001639102687</td>\n",
       "      <td>1</td>\n",
       "      <td>2021-10-29 13:13:50</td>\n",
       "      <td>5814</td>\n",
       "      <td>290.00</td>\n",
       "      <td>174350</td>\n",
       "    </tr>\n",
       "  </tbody>\n",
       "</table>\n",
       "</div>"
      ],
      "text/plain": [
       "                   ID  PROD_TYPE          TRANS_DTTM  MCC_CODE  SUM_TRANS  \\\n",
       "0  500000001271933224          1 2021-10-31 16:04:58      5411     411.45   \n",
       "1  500000001089710588          2 2021-08-20 18:00:39      7311     503.00   \n",
       "2  500000000004725733          1 2021-10-31 07:28:47      5411     119.24   \n",
       "3  500000000608267511          2 2021-10-31 16:03:14      5411     249.95   \n",
       "4  500000001639102687          1 2021-10-29 13:13:50      5814     290.00   \n",
       "\n",
       "    index  \n",
       "0  142203  \n",
       "1  125196  \n",
       "2  681029  \n",
       "3  140105  \n",
       "4  174350  "
      ]
     },
     "execution_count": 93,
     "metadata": {},
     "output_type": "execute_result"
    }
   ],
   "source": [
    "df.head()"
   ]
  },
  {
   "cell_type": "code",
   "execution_count": 94,
   "id": "d82f1c2c",
   "metadata": {},
   "outputs": [
    {
     "name": "stdout",
     "output_type": "stream",
     "text": [
      "<class 'pandas.core.frame.DataFrame'>\n",
      "Int64Index: 2201434 entries, 0 to 2272490\n",
      "Data columns (total 6 columns):\n",
      " #   Column      Dtype         \n",
      "---  ------      -----         \n",
      " 0   ID          int64         \n",
      " 1   PROD_TYPE   int64         \n",
      " 2   TRANS_DTTM  datetime64[ns]\n",
      " 3   MCC_CODE    int64         \n",
      " 4   SUM_TRANS   float64       \n",
      " 5   index       int64         \n",
      "dtypes: datetime64[ns](1), float64(1), int64(4)\n",
      "memory usage: 117.6 MB\n"
     ]
    }
   ],
   "source": [
    "df.info()"
   ]
  },
  {
   "cell_type": "code",
   "execution_count": 96,
   "id": "640ead0a",
   "metadata": {},
   "outputs": [
    {
     "data": {
      "text/plain": [
       "(2201434, 6)"
      ]
     },
     "execution_count": 96,
     "metadata": {},
     "output_type": "execute_result"
    }
   ],
   "source": [
    "df.shape"
   ]
  },
  {
   "cell_type": "code",
   "execution_count": 98,
   "id": "9574ec05",
   "metadata": {},
   "outputs": [],
   "source": [
    "clean_data = pd.merge(df, df2, left_on='ID', right_on='ID')"
   ]
  },
  {
   "cell_type": "code",
   "execution_count": 103,
   "id": "bd67ec20",
   "metadata": {},
   "outputs": [
    {
     "data": {
      "text/html": [
       "<div>\n",
       "<style scoped>\n",
       "    .dataframe tbody tr th:only-of-type {\n",
       "        vertical-align: middle;\n",
       "    }\n",
       "\n",
       "    .dataframe tbody tr th {\n",
       "        vertical-align: top;\n",
       "    }\n",
       "\n",
       "    .dataframe thead th {\n",
       "        text-align: right;\n",
       "    }\n",
       "</style>\n",
       "<table border=\"1\" class=\"dataframe\">\n",
       "  <thead>\n",
       "    <tr style=\"text-align: right;\">\n",
       "      <th></th>\n",
       "      <th>ID</th>\n",
       "      <th>MM_IN_BANK</th>\n",
       "      <th>MM_W_CARD</th>\n",
       "      <th>AGE</th>\n",
       "      <th>GENDER</th>\n",
       "      <th>EDUCATION_LEVEL</th>\n",
       "      <th>MARITAL_STATUS</th>\n",
       "      <th>DEPENDANT_CNT</th>\n",
       "      <th>INCOME_MAIN_AMT</th>\n",
       "      <th>REG_CODE</th>\n",
       "    </tr>\n",
       "  </thead>\n",
       "  <tbody>\n",
       "    <tr>\n",
       "      <th>0</th>\n",
       "      <td>500000000000003702</td>\n",
       "      <td>5</td>\n",
       "      <td>5</td>\n",
       "      <td>35</td>\n",
       "      <td>2</td>\n",
       "      <td>3</td>\n",
       "      <td>3</td>\n",
       "      <td>0</td>\n",
       "      <td>87000.0</td>\n",
       "      <td>9.0</td>\n",
       "    </tr>\n",
       "    <tr>\n",
       "      <th>1</th>\n",
       "      <td>500000000000004100</td>\n",
       "      <td>108</td>\n",
       "      <td>0</td>\n",
       "      <td>34</td>\n",
       "      <td>2</td>\n",
       "      <td>3</td>\n",
       "      <td>3</td>\n",
       "      <td>2</td>\n",
       "      <td>180000.0</td>\n",
       "      <td>31.0</td>\n",
       "    </tr>\n",
       "    <tr>\n",
       "      <th>2</th>\n",
       "      <td>500000000000004523</td>\n",
       "      <td>0</td>\n",
       "      <td>0</td>\n",
       "      <td>35</td>\n",
       "      <td>1</td>\n",
       "      <td>1</td>\n",
       "      <td>3</td>\n",
       "      <td>0</td>\n",
       "      <td>61000.0</td>\n",
       "      <td>38.0</td>\n",
       "    </tr>\n",
       "    <tr>\n",
       "      <th>3</th>\n",
       "      <td>500000000000004529</td>\n",
       "      <td>6</td>\n",
       "      <td>6</td>\n",
       "      <td>38</td>\n",
       "      <td>1</td>\n",
       "      <td>5</td>\n",
       "      <td>3</td>\n",
       "      <td>0</td>\n",
       "      <td>318000.0</td>\n",
       "      <td>42.0</td>\n",
       "    </tr>\n",
       "    <tr>\n",
       "      <th>4</th>\n",
       "      <td>500000000000004718</td>\n",
       "      <td>18</td>\n",
       "      <td>5</td>\n",
       "      <td>39</td>\n",
       "      <td>1</td>\n",
       "      <td>-1</td>\n",
       "      <td>3</td>\n",
       "      <td>0</td>\n",
       "      <td>34000.0</td>\n",
       "      <td>81.0</td>\n",
       "    </tr>\n",
       "  </tbody>\n",
       "</table>\n",
       "</div>"
      ],
      "text/plain": [
       "                   ID  MM_IN_BANK  MM_W_CARD  AGE  GENDER  EDUCATION_LEVEL  \\\n",
       "0  500000000000003702           5          5   35       2                3   \n",
       "1  500000000000004100         108          0   34       2                3   \n",
       "2  500000000000004523           0          0   35       1                1   \n",
       "3  500000000000004529           6          6   38       1                5   \n",
       "4  500000000000004718          18          5   39       1               -1   \n",
       "\n",
       "   MARITAL_STATUS  DEPENDANT_CNT  INCOME_MAIN_AMT  REG_CODE  \n",
       "0               3              0          87000.0       9.0  \n",
       "1               3              2         180000.0      31.0  \n",
       "2               3              0          61000.0      38.0  \n",
       "3               3              0         318000.0      42.0  \n",
       "4               3              0          34000.0      81.0  "
      ]
     },
     "execution_count": 103,
     "metadata": {},
     "output_type": "execute_result"
    }
   ],
   "source": [
    "df2.head()"
   ]
  },
  {
   "cell_type": "code",
   "execution_count": 99,
   "id": "e5f0f0f6",
   "metadata": {},
   "outputs": [
    {
     "data": {
      "text/html": [
       "<div>\n",
       "<style scoped>\n",
       "    .dataframe tbody tr th:only-of-type {\n",
       "        vertical-align: middle;\n",
       "    }\n",
       "\n",
       "    .dataframe tbody tr th {\n",
       "        vertical-align: top;\n",
       "    }\n",
       "\n",
       "    .dataframe thead th {\n",
       "        text-align: right;\n",
       "    }\n",
       "</style>\n",
       "<table border=\"1\" class=\"dataframe\">\n",
       "  <thead>\n",
       "    <tr style=\"text-align: right;\">\n",
       "      <th></th>\n",
       "      <th>ID</th>\n",
       "      <th>PROD_TYPE</th>\n",
       "      <th>TRANS_DTTM</th>\n",
       "      <th>MCC_CODE</th>\n",
       "      <th>SUM_TRANS</th>\n",
       "      <th>index</th>\n",
       "      <th>MM_IN_BANK</th>\n",
       "      <th>MM_W_CARD</th>\n",
       "      <th>AGE</th>\n",
       "      <th>GENDER</th>\n",
       "      <th>EDUCATION_LEVEL</th>\n",
       "      <th>MARITAL_STATUS</th>\n",
       "      <th>DEPENDANT_CNT</th>\n",
       "      <th>INCOME_MAIN_AMT</th>\n",
       "      <th>REG_CODE</th>\n",
       "    </tr>\n",
       "  </thead>\n",
       "  <tbody>\n",
       "    <tr>\n",
       "      <th>0</th>\n",
       "      <td>500000001271933224</td>\n",
       "      <td>1</td>\n",
       "      <td>2021-10-31 16:04:58</td>\n",
       "      <td>5411</td>\n",
       "      <td>411.45</td>\n",
       "      <td>142203</td>\n",
       "      <td>14</td>\n",
       "      <td>14</td>\n",
       "      <td>24</td>\n",
       "      <td>2</td>\n",
       "      <td>-1</td>\n",
       "      <td>1</td>\n",
       "      <td>0</td>\n",
       "      <td>87402.035312</td>\n",
       "      <td>32.0</td>\n",
       "    </tr>\n",
       "    <tr>\n",
       "      <th>1</th>\n",
       "      <td>500000001271933224</td>\n",
       "      <td>1</td>\n",
       "      <td>2021-10-27 18:20:16</td>\n",
       "      <td>5912</td>\n",
       "      <td>1028.00</td>\n",
       "      <td>142210</td>\n",
       "      <td>14</td>\n",
       "      <td>14</td>\n",
       "      <td>24</td>\n",
       "      <td>2</td>\n",
       "      <td>-1</td>\n",
       "      <td>1</td>\n",
       "      <td>0</td>\n",
       "      <td>87402.035312</td>\n",
       "      <td>32.0</td>\n",
       "    </tr>\n",
       "    <tr>\n",
       "      <th>2</th>\n",
       "      <td>500000001271933224</td>\n",
       "      <td>1</td>\n",
       "      <td>2021-10-16 19:56:56</td>\n",
       "      <td>5921</td>\n",
       "      <td>164.79</td>\n",
       "      <td>142203</td>\n",
       "      <td>14</td>\n",
       "      <td>14</td>\n",
       "      <td>24</td>\n",
       "      <td>2</td>\n",
       "      <td>-1</td>\n",
       "      <td>1</td>\n",
       "      <td>0</td>\n",
       "      <td>87402.035312</td>\n",
       "      <td>32.0</td>\n",
       "    </tr>\n",
       "    <tr>\n",
       "      <th>3</th>\n",
       "      <td>500000001271933224</td>\n",
       "      <td>1</td>\n",
       "      <td>2021-08-29 18:52:41</td>\n",
       "      <td>5999</td>\n",
       "      <td>600.00</td>\n",
       "      <td>142200</td>\n",
       "      <td>14</td>\n",
       "      <td>14</td>\n",
       "      <td>24</td>\n",
       "      <td>2</td>\n",
       "      <td>-1</td>\n",
       "      <td>1</td>\n",
       "      <td>0</td>\n",
       "      <td>87402.035312</td>\n",
       "      <td>32.0</td>\n",
       "    </tr>\n",
       "    <tr>\n",
       "      <th>4</th>\n",
       "      <td>500000001271933224</td>\n",
       "      <td>1</td>\n",
       "      <td>2021-10-18 21:11:57</td>\n",
       "      <td>4814</td>\n",
       "      <td>80.00</td>\n",
       "      <td>117648</td>\n",
       "      <td>14</td>\n",
       "      <td>14</td>\n",
       "      <td>24</td>\n",
       "      <td>2</td>\n",
       "      <td>-1</td>\n",
       "      <td>1</td>\n",
       "      <td>0</td>\n",
       "      <td>87402.035312</td>\n",
       "      <td>32.0</td>\n",
       "    </tr>\n",
       "  </tbody>\n",
       "</table>\n",
       "</div>"
      ],
      "text/plain": [
       "                   ID  PROD_TYPE          TRANS_DTTM  MCC_CODE  SUM_TRANS  \\\n",
       "0  500000001271933224          1 2021-10-31 16:04:58      5411     411.45   \n",
       "1  500000001271933224          1 2021-10-27 18:20:16      5912    1028.00   \n",
       "2  500000001271933224          1 2021-10-16 19:56:56      5921     164.79   \n",
       "3  500000001271933224          1 2021-08-29 18:52:41      5999     600.00   \n",
       "4  500000001271933224          1 2021-10-18 21:11:57      4814      80.00   \n",
       "\n",
       "    index  MM_IN_BANK  MM_W_CARD  AGE  GENDER  EDUCATION_LEVEL  \\\n",
       "0  142203          14         14   24       2               -1   \n",
       "1  142210          14         14   24       2               -1   \n",
       "2  142203          14         14   24       2               -1   \n",
       "3  142200          14         14   24       2               -1   \n",
       "4  117648          14         14   24       2               -1   \n",
       "\n",
       "   MARITAL_STATUS  DEPENDANT_CNT  INCOME_MAIN_AMT  REG_CODE  \n",
       "0               1              0     87402.035312      32.0  \n",
       "1               1              0     87402.035312      32.0  \n",
       "2               1              0     87402.035312      32.0  \n",
       "3               1              0     87402.035312      32.0  \n",
       "4               1              0     87402.035312      32.0  "
      ]
     },
     "execution_count": 99,
     "metadata": {},
     "output_type": "execute_result"
    }
   ],
   "source": [
    "clean_data.head()"
   ]
  },
  {
   "cell_type": "code",
   "execution_count": 105,
   "id": "6344a36d",
   "metadata": {},
   "outputs": [],
   "source": [
    "clean_data.to_csv('clean_data.csv', index=False)"
   ]
  },
  {
   "cell_type": "code",
   "execution_count": null,
   "id": "7e719119",
   "metadata": {},
   "outputs": [],
   "source": [
    "#1.5 кластеры"
   ]
  },
  {
   "cell_type": "code",
   "execution_count": 101,
   "id": "3f2039ba",
   "metadata": {},
   "outputs": [],
   "source": [
    "from sklearn.manifold import TSNE\n",
    "from sklearn.cluster import KMeans\n",
    "from sklearn.cluster import DBSCAN\n",
    "from sklearn.decomposition import PCA\n",
    "from sklearn.preprocessing import StandardScaler"
   ]
  },
  {
   "cell_type": "code",
   "execution_count": 109,
   "id": "8d59cc7c",
   "metadata": {},
   "outputs": [],
   "source": [
    "train = clean_data.drop('TRANS_DTTM', axis=1)"
   ]
  },
  {
   "cell_type": "code",
   "execution_count": 102,
   "id": "b306b3dc",
   "metadata": {},
   "outputs": [],
   "source": [
    "scaler = StandardScaler()"
   ]
  },
  {
   "cell_type": "code",
   "execution_count": 106,
   "id": "3e89a0ea",
   "metadata": {},
   "outputs": [
    {
     "data": {
      "text/plain": [
       "StandardScaler()"
      ]
     },
     "execution_count": 106,
     "metadata": {},
     "output_type": "execute_result"
    }
   ],
   "source": [
    "scaler.fit(train)"
   ]
  },
  {
   "cell_type": "code",
   "execution_count": null,
   "id": "f73f9b97",
   "metadata": {},
   "outputs": [],
   "source": [
    "scaled_features = scaler.transform(clean_data.drop('TRANS_DTTM', axis=1))"
   ]
  },
  {
   "cell_type": "code",
   "execution_count": null,
   "id": "b0d83a4a",
   "metadata": {},
   "outputs": [],
   "source": [
    "#1 кластер"
   ]
  },
  {
   "cell_type": "code",
   "execution_count": 110,
   "id": "3ab4553b",
   "metadata": {},
   "outputs": [
    {
     "data": {
      "text/plain": [
       "KMeans(n_clusters=3)"
      ]
     },
     "execution_count": 110,
     "metadata": {},
     "output_type": "execute_result"
    }
   ],
   "source": [
    "model = KMeans(n_clusters=3)\n",
    "model.fit(train)\n",
    "all_predictions = model.predict(train)\n",
    "print(all_predictions)"
   ]
  },
  {
   "cell_type": "code",
   "execution_count": null,
   "id": "cb0a4130",
   "metadata": {},
   "outputs": [],
   "source": [
    "#2 кластер"
   ]
  },
  {
   "cell_type": "code",
   "execution_count": null,
   "id": "ea3698f1",
   "metadata": {},
   "outputs": [
    {
     "name": "stderr",
     "output_type": "stream",
     "text": [
      "D:\\soft\\anaconda\\lib\\site-packages\\sklearn\\manifold\\_t_sne.py:780: FutureWarning: The default initialization in TSNE will change from 'random' to 'pca' in 1.2.\n",
      "  warnings.warn(\n"
     ]
    }
   ],
   "source": [
    "model = TSNE(learning_rate=100)\n",
    "transformed = model.fit_transform(train)"
   ]
  },
  {
   "cell_type": "code",
   "execution_count": null,
   "id": "f582db4a",
   "metadata": {},
   "outputs": [],
   "source": [
    "x_axis = transformed[:, 0]\n",
    "y_axis = transformed[:, 1]\n",
    "\n",
    "plt.scatter(x_axis, y_axis, c=iris_df.target)\n",
    "plt.show()\n"
   ]
  },
  {
   "cell_type": "code",
   "execution_count": null,
   "id": "f945db0d",
   "metadata": {},
   "outputs": [],
   "source": [
    "#3 кластер"
   ]
  },
  {
   "cell_type": "code",
   "execution_count": null,
   "id": "86de268a",
   "metadata": {},
   "outputs": [],
   "source": [
    "dbscan = DBSCAN()\n",
    "\n",
    "# Обучаем\n",
    "dbscan.fit(train)\n",
    "\n",
    "# Уменьшаем размерность при помощи метода главных компонент\n",
    "pca = PCA(n_components=2).fit(train)\n",
    "pca_2d = pca.transform(train)\n",
    "\n",
    "# Строим в соответствии с тремя классами\n",
    "for i in range(0, pca_2d.shape[0]):\n",
    "    if dbscan.labels_[i] == 0:\n",
    "        c1 = plt.scatter(pca_2d[i, 0], pca_2d[i, 1], c='r', marker='+')\n",
    "    elif dbscan.labels_[i] == 1:\n",
    "        c2 = plt.scatter(pca_2d[i, 0], pca_2d[i, 1], c='g', marker='o')\n",
    "    elif dbscan.labels_[i] == -1:\n",
    "        c3 = plt.scatter(pca_2d[i, 0], pca_2d[i, 1], c='b', marker='*')\n",
    "\n",
    "plt.legend([c1, c2, c3], ['Кластер 1', 'Кластер 2', 'Шум'])\n",
    "plt.title('DBSCAN нашел 2 кластера и шум')\n",
    "plt.show()"
   ]
  }
 ],
 "metadata": {
  "kernelspec": {
   "display_name": "Python 3 (ipykernel)",
   "language": "python",
   "name": "python3"
  },
  "language_info": {
   "codemirror_mode": {
    "name": "ipython",
    "version": 3
   },
   "file_extension": ".py",
   "mimetype": "text/x-python",
   "name": "python",
   "nbconvert_exporter": "python",
   "pygments_lexer": "ipython3",
   "version": "3.9.13"
  }
 },
 "nbformat": 4,
 "nbformat_minor": 5
}
